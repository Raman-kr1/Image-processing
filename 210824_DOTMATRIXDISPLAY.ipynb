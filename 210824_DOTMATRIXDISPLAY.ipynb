{
  "nbformat": 4,
  "nbformat_minor": 0,
  "metadata": {
    "colab": {
      "provenance": [],
      "authorship_tag": "ABX9TyNalLJOwlGs3UhfK62mvw+S",
      "include_colab_link": true
    },
    "kernelspec": {
      "name": "python3",
      "display_name": "Python 3"
    },
    "language_info": {
      "name": "python"
    }
  },
  "cells": [
    {
      "cell_type": "markdown",
      "metadata": {
        "id": "view-in-github",
        "colab_type": "text"
      },
      "source": [
        "<a href=\"https://colab.research.google.com/github/ramannishad/Image-processing/blob/main/210824_DOTMATRIXDISPLAY.ipynb\" target=\"_parent\"><img src=\"https://colab.research.google.com/assets/colab-badge.svg\" alt=\"Open In Colab\"/></a>"
      ]
    },
    {
      "cell_type": "code",
      "source": [
        "from PIL import Image\n",
        "import cv2\n",
        "import numpy\n",
        "import matplotlib.pyplot as plt\n",
        "from skimage import io\n",
        "from google.colab.patches import cv2_imshow\n",
        "num = input (\"Enter a number : \")\n",
        "digit=[int((int(num)%100)/10),int(num)%10]\n",
        "\n",
        "def draw_circle(img_1,x,y):\n",
        "    img_2=img_1.copy()\n",
        "    for m in range(x-25,x+26):\n",
        "        for n in range(y-25,y+26):\n",
        "            \"\"\"\n",
        "            for k in range(3):\n",
        "                if ((m-x)**2)+((n-y)**2)<=625:\n",
        "                    img_2[n][m][k]=255\n",
        "            \"\"\"\n",
        "            if ((m-x)**2)+((n-y)**2)<=625:\n",
        "                    img_2[m][n]=255\n",
        "\n",
        "    return img_2\n",
        "\n",
        "    #data1 = numpy.random.randint(256, size=(300, 250), dtype=numpy.uint8)\n",
        "data1 = numpy.zeros((300, 250), dtype=numpy.uint8)\n",
        "img1 = Image.fromarray(data1, mode=\"1\")  # uses mode='L'\n",
        "\n",
        "#data2 = numpy.random.randint(256, size=(300, 250), dtype=numpy.uint8)\n",
        "data2 = numpy.zeros((300, 250), dtype=numpy.uint8)\n",
        "img2 = Image.fromarray(data2, mode=\"1\")  # uses mode='L'\n",
        "\n",
        "#img1=Image.new(mode=\"RGB\", size=(300,250),color=0)\n",
        "#img2=Image.new(mode=\"RGB\", size=(300,250),color=0)\n",
        "\n",
        "photo=[numpy.asarray(img1), numpy.asarray(img2)]\n",
        "\n",
        "\n",
        "\n",
        "for p in range(2):\n",
        "    for j in range(61,247,62):\n",
        "            for i in range(49,299,50):\n",
        "                if j==61:\n",
        "                    if i==49:\n",
        "                        a=[0,2,3,4,5,6,7,8,9]\n",
        "                        if digit[p] in a:\n",
        "                            photo[p]=draw_circle(photo[p],i,j)\n",
        "                    elif i==99:\n",
        "                        a=[0,4,5,6,8,9]\n",
        "                        if digit[p] in a:\n",
        "                            photo[p]=draw_circle(photo[p],i,j)\n",
        "                    elif i==149:\n",
        "                        a=[0,2,3,4,5,6,8,9]\n",
        "                        if digit[p] in a:\n",
        "                            photo[p]=draw_circle(photo[p],i,j)\n",
        "                    elif i==199:\n",
        "                        a=[0,2,6,8]\n",
        "                        if digit[p] in a:\n",
        "                            photo[p]=draw_circle(photo[p],i,j)\n",
        "                    elif i==249:\n",
        "                        a=[0,2,3,5,6,8,9]\n",
        "                        if digit[p] in a:\n",
        "                            photo[p]=draw_circle(photo[p],i,j)\n",
        "                elif j==123:\n",
        "                    if i==49:\n",
        "                        a=[0,2,3,5,6,7,8,9]\n",
        "                        if digit[p] in a:\n",
        "                            photo[p]=draw_circle(photo[p],i,j)\n",
        "                    elif i==99:\n",
        "                        a=[]\n",
        "                        if digit[p] in a:\n",
        "                            photo[p]=draw_circle(photo[p],i,j)\n",
        "                    elif i==149:\n",
        "                        a=[2,3,4,5,6,8,9]\n",
        "                        if digit[p] in a:\n",
        "                            photo[p]=draw_circle(photo[p],i,j)\n",
        "                    elif i==199:\n",
        "                        a=[]\n",
        "                        if digit[p] in a:\n",
        "                            photo[p]=draw_circle(photo[p],i,j)\n",
        "                    elif i==249:\n",
        "                        a=[0,2,3,5,6,8,9]\n",
        "                        if digit[p] in a:\n",
        "                            photo[p]=draw_circle(photo[p],i,j)\n",
        "                    del a\n",
        "                elif j==185:\n",
        "                    if i==49:\n",
        "                        a=[0,1,2,3,4,5,6,7,8,9]\n",
        "                        if digit[p] in a:\n",
        "                            photo[p]=draw_circle(photo[p],i,j)\n",
        "                    elif i==99:\n",
        "                        a=[0,1,2,3,4,7,8,9]\n",
        "                        if digit[p] in a:\n",
        "                            photo[p]=draw_circle(photo[p],i,j)\n",
        "                    elif i==149:\n",
        "                        a=[0,1,2,3,4,5,6,7,8,9]\n",
        "                        if digit[p] in a:\n",
        "                            photo[p]=draw_circle(photo[p],i,j)\n",
        "                    elif i==199:\n",
        "                        a=[0,1,3,4,5,6,7,8,9]\n",
        "                        if digit[p] in a:\n",
        "                            photo[p]=draw_circle(photo[p],i,j)\n",
        "                    elif i==249:\n",
        "                        a=[0,1,2,3,4,5,6,7,8,9]\n",
        "                        if digit[p] in a:\n",
        "                            photo[p]=draw_circle(photo[p],i,j)\n",
        "                    del a\n",
        "\n",
        "                    final_image_2 = numpy.concatenate((photo[0], photo[1]), axis=1)\n",
        "\n",
        "#print(numpy.shape(final_image_2))\n",
        "#print(numpy.type(final_image_2))\n",
        "\n",
        "plt.axis('off')\n",
        "plt.imshow(final_image_2)\n",
        "\n",
        "io.imshow(final_image_2)"
      ],
      "metadata": {
        "colab": {
          "base_uri": "https://localhost:8080/",
          "height": 438
        },
        "id": "8TK_loQZS4sM",
        "outputId": "c2c1d417-d98b-4cd1-a5e7-2dffbdcac54c"
      },
      "execution_count": 1,
      "outputs": [
        {
          "name": "stdout",
          "output_type": "stream",
          "text": [
            "Enter a number : 210824\n"
          ]
        },
        {
          "output_type": "execute_result",
          "data": {
            "text/plain": [
              "<matplotlib.image.AxesImage at 0x7b2a4c49d840>"
            ]
          },
          "metadata": {},
          "execution_count": 1
        },
        {
          "output_type": "display_data",
          "data": {
            "text/plain": [
              "<Figure size 640x480 with 1 Axes>"
            ],
            "image/png": "[encoded data removed]"
          },
          "metadata": {}
        }
      ]
    }
  ]
}